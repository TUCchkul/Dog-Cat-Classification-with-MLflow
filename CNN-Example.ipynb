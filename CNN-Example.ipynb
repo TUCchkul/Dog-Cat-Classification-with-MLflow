{
 "cells": [
  {
   "cell_type": "code",
   "execution_count": 2,
   "id": "7f2bd10e",
   "metadata": {},
   "outputs": [],
   "source": [
    "#!pip install tensorflow"
   ]
  },
  {
   "cell_type": "code",
   "execution_count": 3,
   "id": "2c2a3085",
   "metadata": {},
   "outputs": [],
   "source": [
    "import tensorflow as tf\n",
    "import os \n",
    "from tqdm import tqdm \n",
    "import urllib.request as req"
   ]
  },
  {
   "cell_type": "code",
   "execution_count": 4,
   "id": "f2955f25",
   "metadata": {},
   "outputs": [],
   "source": [
    "source_url=\"https://download.microsoft.com/download/3/E/1/3E1C3F21-ECDB-4869-8368-6DEBA77B919F/kagglecatsanddogs_3367a.zip\""
   ]
  },
  {
   "cell_type": "code",
   "execution_count": 6,
   "id": "c51589c3",
   "metadata": {},
   "outputs": [],
   "source": [
    "DESTINATION=\"data_1\"\n",
    "os.makedirs(DESTINATION, exist_ok=True)\n",
    "data_file=\"data_1.zip\"\n",
    "DESTINATION_ZIP_PATH=os.path.join(DESTINATION, data_file)"
   ]
  },
  {
   "cell_type": "code",
   "execution_count": 9,
   "id": "8e413dcd",
   "metadata": {},
   "outputs": [],
   "source": [
    "#ls"
   ]
  },
  {
   "cell_type": "code",
   "execution_count": 10,
   "id": "4efb6172",
   "metadata": {},
   "outputs": [],
   "source": [
    "filename,headers=req.urlretrieve(source_url, DESTINATION_ZIP_PATH)"
   ]
  },
  {
   "cell_type": "code",
   "execution_count": 11,
   "id": "d2946cc6",
   "metadata": {},
   "outputs": [
    {
     "data": {
      "text/plain": [
       "'data_1\\\\data_1.zip'"
      ]
     },
     "execution_count": 11,
     "metadata": {},
     "output_type": "execute_result"
    }
   ],
   "source": [
    "filename"
   ]
  },
  {
   "cell_type": "code",
   "execution_count": 12,
   "id": "e858803f",
   "metadata": {},
   "outputs": [
    {
     "name": "stdout",
     "output_type": "stream",
     "text": [
      "Content-Type: application/octet-stream\n",
      "Accept-Ranges: bytes\n",
      "Server: Windows-Azure-Blob/1.0 Microsoft-HTTPAPI/2.0\n",
      "x-ms-blob-content-md5: l2WJyK3tt5/f2azyQ9eE8w==\n",
      "Last-Modified: Sat, 13 Oct 2018 12:14:22 GMT\n",
      "ETag: \"0x8D6310568FD1DF6\"\n",
      "Content-Length: 824894548\n",
      "Date: Wed, 16 Mar 2022 09:27:43 GMT\n",
      "Connection: close\n",
      "\n",
      "\n"
     ]
    }
   ],
   "source": [
    "print(headers)"
   ]
  },
  {
   "cell_type": "code",
   "execution_count": null,
   "id": "5b97d41d",
   "metadata": {},
   "outputs": [],
   "source": []
  }
 ],
 "metadata": {
  "kernelspec": {
   "display_name": "Python 3 (ipykernel)",
   "language": "python",
   "name": "python3"
  },
  "language_info": {
   "codemirror_mode": {
    "name": "ipython",
    "version": 3
   },
   "file_extension": ".py",
   "mimetype": "text/x-python",
   "name": "python",
   "nbconvert_exporter": "python",
   "pygments_lexer": "ipython3",
   "version": "3.7.11"
  }
 },
 "nbformat": 4,
 "nbformat_minor": 5
}
